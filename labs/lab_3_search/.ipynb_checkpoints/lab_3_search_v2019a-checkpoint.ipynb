{
 "cells": [
  {
   "cell_type": "markdown",
   "metadata": {
    "slideshow": {
     "slide_type": "slide"
    }
   },
   "source": [
    "---"
   ]
  },
  {
   "cell_type": "markdown",
   "metadata": {
    "slideshow": {
     "slide_type": "-"
    }
   },
   "source": [
    "# Artificial Intelligence - COMPSCI4004 2018-2019"
   ]
  },
  {
   "cell_type": "markdown",
   "metadata": {
    "slideshow": {
     "slide_type": "-"
    }
   },
   "source": [
    "## Lab 3: Search <small><small><small>v2019a</small></small></small>"
   ]
  },
  {
   "cell_type": "markdown",
   "metadata": {},
   "source": [
    "----"
   ]
  },
  {
   "cell_type": "markdown",
   "metadata": {},
   "source": [
    " ### Introduction"
   ]
  },
  {
   "cell_type": "markdown",
   "metadata": {},
   "source": [
    "We will examine how a particular class of AI-problems can be solved using classical search techniques such as A-star. We will formulate a Maze-navigation problem as a graph-search problem in Python and use the `AIMA Toolbox` (https://github.com/aimacode/aima-python) to suggest a solution (i.e., a set of actions) which hopefully leads the agent from the initial state to the goal state. We will furthermore explore the limitations of A-star for general Maze-navigation problems. "
   ]
  },
  {
   "cell_type": "markdown",
   "metadata": {},
   "source": [
    "Thus, the object of the lab exerise is to:"
   ]
  },
  {
   "cell_type": "markdown",
   "metadata": {},
   "source": [
    "* Formulate the agent function as an graph-search problem based on the PEAS analysis/characterization\n",
    "* Get hands-on experience with A* and heuristic functions\n",
    "* Appreciate the limitations of A-star for general navigation problems"
   ]
  },
  {
   "cell_type": "markdown",
   "metadata": {},
   "source": [
    "<font color=red>Note: The questions are intentioannly open-ended and we highly recommend that you discuss the question and your answers with the tutors. A basic model solution will be provided on Moodle a week after the lab.</font>"
   ]
  },
  {
   "cell_type": "markdown",
   "metadata": {},
   "source": [
    "---\n",
    "### Q3.0 Prerequisites / housekeeping"
   ]
  },
  {
   "cell_type": "markdown",
   "metadata": {},
   "source": [
    "The notebook relies on the following software:\n",
    "- A Python 3.5+ environment and additional pacakges (see the imports for specific requirements)\n",
    "- AIMA Toolbox: https://github.com/aimacode/aima-python which comes with the book (free) and contains off-the-shelf implementations of various search algorithms and many other relevant methods."
   ]
  },
  {
   "cell_type": "markdown",
   "metadata": {},
   "source": [
    "#### Q3.0.1 Import the basics"
   ]
  },
  {
   "cell_type": "markdown",
   "metadata": {},
   "source": [
    "- Run the follwing cell which loads the very basic Python modules and checks the environmental variables"
   ]
  },
  {
   "cell_type": "code",
   "execution_count": 22,
   "metadata": {},
   "outputs": [
    {
     "name": "stdout",
     "output_type": "stream",
     "text": [
      "Working dir:/home/neil/AI/lab_3_search\n",
      "Python version:3.6.5 |Anaconda, Inc.| (default, Apr 29 2018, 16:14:56) \n",
      "[GCC 7.2.0]\n"
     ]
    }
   ],
   "source": [
    "# Check the very basics\n",
    "import os, sys\n",
    "print(\"Working dir:\"+os.getcwd())\n",
    "print(\"Python version:\"+sys.version)"
   ]
  },
  {
   "cell_type": "markdown",
   "metadata": {},
   "source": [
    "#### Q3.0.2 Import Python core modules"
   ]
  },
  {
   "cell_type": "markdown",
   "metadata": {},
   "source": [
    "- Run the following code to import core Python models"
   ]
  },
  {
   "cell_type": "code",
   "execution_count": 23,
   "metadata": {},
   "outputs": [],
   "source": [
    "from copy import deepcopy \n",
    "%matplotlib inline\n",
    "import matplotlib.pyplot as plt\n",
    "from matplotlib import lines"
   ]
  },
  {
   "cell_type": "markdown",
   "metadata": {},
   "source": [
    "#### Q3.0.2 Import Python Network/Graph modules"
   ]
  },
  {
   "cell_type": "markdown",
   "metadata": {},
   "source": [
    "- Run the cell to import the graph module allowing you to work with graphs in Python:"
   ]
  },
  {
   "cell_type": "code",
   "execution_count": 24,
   "metadata": {},
   "outputs": [
    {
     "name": "stdout",
     "output_type": "stream",
     "text": [
      "networkx version:2.1\n"
     ]
    }
   ],
   "source": [
    "import networkx as nx\n",
    "print(\"networkx version:\"+nx.__version__)"
   ]
  },
  {
   "cell_type": "markdown",
   "metadata": {},
   "source": [
    "#### Q3.0.2 Import Python visualization modules"
   ]
  },
  {
   "cell_type": "markdown",
   "metadata": {},
   "source": [
    "- Import modules which allows you to visualise the graphs and solutions. Note: You can skip this step if you fail installing the the `ipywidgets` Python package however you will not be able to interactively visualize the graphs and solutions. `ipywidgets`  is easy to install ia the Anaconda packagae but can be tricky to run on custom Python setups in which case we recommend skipping the step."
   ]
  },
  {
   "cell_type": "code",
   "execution_count": 25,
   "metadata": {},
   "outputs": [
    {
     "name": "stdout",
     "output_type": "stream",
     "text": [
      "ipywidgets version:7.2.1\n"
     ]
    }
   ],
   "source": [
    "from ipywidgets import interact\n",
    "import ipywidgets as widgets\n",
    "from IPython.display import display\n",
    "print(\"ipywidgets version:\" + widgets.__version__)"
   ]
  },
  {
   "cell_type": "markdown",
   "metadata": {},
   "source": [
    "#### Q3.0.2 Import the AIMA Toolbox"
   ]
  },
  {
   "cell_type": "markdown",
   "metadata": {},
   "source": [
    "- Download/pull the AIMA toolbox from https://github.com/aimacode/aima-python\n",
    "- Import the AIMA toolbox into the search path. Remember to change the `AIMA_TOOLBOX_ROOT` variable to match the relevant folder on your system"
   ]
  },
  {
   "cell_type": "code",
   "execution_count": 41,
   "metadata": {},
   "outputs": [],
   "source": [
    "# Add path the to the AIMA Python Toolbox folder on your system\n",
    "# WARNING: It is important that you use forward slash, even on Windows machines !\n",
    "\n",
    "AIMA_TOOLBOX_ROOT=\"/home/neil/AI/aima-python\"\n",
    "sys.path.append(AIMA_TOOLBOX_ROOT)"
   ]
  },
  {
   "cell_type": "markdown",
   "metadata": {},
   "source": [
    "- Run the follwing code to import the search packe in the AIMA toolbox"
   ]
  },
  {
   "cell_type": "code",
   "execution_count": 42,
   "metadata": {},
   "outputs": [],
   "source": [
    "from search import *"
   ]
  },
  {
   "cell_type": "markdown",
   "metadata": {},
   "source": [
    "... you should now be ready to solve a AI problem."
   ]
  },
  {
   "cell_type": "markdown",
   "metadata": {},
   "source": [
    "----"
   ]
  },
  {
   "cell_type": "markdown",
   "metadata": {},
   "source": [
    "### Q3.1 The Maze"
   ]
  },
  {
   "cell_type": "markdown",
   "metadata": {},
   "source": [
    "Figure 1 shows a Maze. You are now given the task to design an intelligent agent that plan a route from S (with coordinates (0,0)) to G (with coordinates (1,9) )."
   ]
  },
  {
   "cell_type": "markdown",
   "metadata": {},
   "source": [
    "<img src=\"resources/maze.png\" width=40%>\n",
    "<center>Figure 1: A Maze</center>"
   ]
  },
  {
   "cell_type": "markdown",
   "metadata": {},
   "source": [
    "In the follwing, we will explore how to approach this problem and implement a reasonable solution in Pyhton."
   ]
  },
  {
   "cell_type": "markdown",
   "metadata": {},
   "source": [
    "---"
   ]
  },
  {
   "cell_type": "markdown",
   "metadata": {},
   "source": [
    "#### Q3.1.1 Analysis"
   ]
  },
  {
   "cell_type": "markdown",
   "metadata": {},
   "source": [
    "- As always, analyse the problem and task environment using the PEAS framework. Note: you will need to make assumptions; make sure to state them:\n",
    "\n",
    "    - Performance measure\n",
    "        - As the designer of the Maze-solving agent, define a suitable performance measure?\n",
    "    - Environment\n",
    "        - Characterise the task environment along the dimensions outlined in AIMA Chapter 2?\n",
    "    - Actuators        \n",
    "        - Provide a list of actuators and possible actions ?\n",
    "    - Sensors\n",
    "        - Determine the percept available to the Maze-solving agent ?"
   ]
  },
  {
   "cell_type": "markdown",
   "metadata": {},
   "source": [
    "----"
   ]
  },
  {
   "cell_type": "markdown",
   "metadata": {},
   "source": [
    "#### Q3.1.2 Problem representation via graphs"
   ]
  },
  {
   "cell_type": "markdown",
   "metadata": {},
   "source": [
    "In this part we will build a graph representation of the state-space including the actions (similar to the Romania graph in lecture 3) __assuming__ it is discrete, fully observable, static, deterministic and known."
   ]
  },
  {
   "cell_type": "markdown",
   "metadata": {},
   "source": [
    "##### Q3.1.2 (a) Define states and actions in a table"
   ]
  },
  {
   "cell_type": "markdown",
   "metadata": {},
   "source": [
    "- Run the cells to defines your state-space as a table Hint: the S state is (0,0) and the G state is (1.9) !)"
   ]
  },
  {
   "cell_type": "code",
   "execution_count": 43,
   "metadata": {},
   "outputs": [
    {
     "name": "stdout",
     "output_type": "stream",
     "text": [
      "----------------------------\n",
      "Unique states (i.e.locations) and possible actions in those states:\n",
      "\n",
      "{'S_00_00': (0, 0), 'S_01_00': (1, 0), 'S_03_00': (3, 0), 'S_04_00': (4, 0), 'S_07_00': (7, 0), 'S_08_00': (8, 0), 'S_09_00': (9, 0), 'S_01_01': (1, 1), 'S_02_01': (2, 1), 'S_03_01': (3, 1), 'S_09_01': (9, 1), 'S_03_02': (3, 2), 'S_04_02': (4, 2), 'S_05_02': (5, 2), 'S_01_03': (1, 3), 'S_02_03': (2, 3), 'S_04_03': (4, 3), 'S_05_03': (5, 3), 'S_06_03': (6, 3), 'S_08_03': (8, 3), 'S_01_04': (1, 4), 'S_02_04': (2, 4), 'S_03_04': (3, 4), 'S_04_04': (4, 4), 'S_05_04': (5, 4), 'S_06_04': (6, 4), 'S_07_04': (7, 4), 'S_08_04': (8, 4), 'S_00_05': (0, 5), 'S_02_05': (2, 5), 'S_03_05': (3, 5), 'S_05_05': (5, 5), 'S_07_05': (7, 5), 'S_08_05': (8, 5), 'S_09_05': (9, 5), 'S_00_06': (0, 6), 'S_01_06': (1, 6), 'S_02_06': (2, 6), 'S_04_06': (4, 6), 'S_05_06': (5, 6), 'S_06_06': (6, 6), 'S_07_06': (7, 6), 'S_09_06': (9, 6), 'S_00_07': (0, 7), 'S_01_07': (1, 7), 'S_02_07': (2, 7), 'S_03_07': (3, 7), 'S_04_07': (4, 7), 'S_05_07': (5, 7), 'S_06_07': (6, 7), 'S_08_07': (8, 7), 'S_09_07': (9, 7), 'S_00_08': (0, 8), 'S_01_08': (1, 8), 'S_02_08': (2, 8), 'S_04_08': (4, 8), 'S_05_08': (5, 8), 'S_06_08': (6, 8), 'S_07_08': (7, 8), 'S_00_09': (0, 9), 'S_01_09': (1, 9), 'S_02_09': (2, 9), 'S_04_09': (4, 9), 'S_05_09': (5, 9), 'S_07_09': (7, 9)}\n"
     ]
    }
   ],
   "source": [
    "maze_map = UndirectedGraph(dict(\n",
    "    S_00_00=dict(S_01_00=1),\n",
    "    S_01_00=dict(S_01_01=1),\n",
    "    S_03_00=dict(S_04_00=1,S_03_01=1),\n",
    "    S_04_00=dict(S_03_00=1),\n",
    "    S_07_00=dict(S_08_00=1),\n",
    "    S_08_00=dict(S_09_00=1,S_07_00=1),\n",
    "    S_09_00=dict(S_08_00=1,S_09_01=1),\n",
    "    S_01_01=dict(S_01_00=1,S_02_01=1),\n",
    "    S_02_01=dict(S_01_01=1,S_03_01=1),\n",
    "    S_03_01=dict(S_03_00=1,S_03_02=1),\n",
    "    S_09_01=dict(S_09_00=1),\n",
    "    S_03_02=dict(S_03_01=1,S_04_02=1),\n",
    "    S_04_02=dict(S_03_02=1,S_05_02=1,S_04_03=1),\n",
    "    S_05_02=dict(S_04_02=1,S_05_03=1),\n",
    "    S_01_03=dict(S_01_04=1,S_02_03=1),\n",
    "    S_02_03=dict(S_01_03=1,S_02_04=1),\n",
    "    S_04_03=dict(S_04_02=1,S_05_03=1,S_04_04=1),\n",
    "    S_05_03=dict(S_05_02=1,S_06_03=1,S_04_03=1,S_05_04=1),\n",
    "    S_06_03=dict(S_05_03=1,S_06_04=1),\n",
    "    S_08_03=dict(S_08_04=1),\n",
    "    S_01_04=dict(S_01_03=1,S_02_04=1),\n",
    "    S_02_04=dict(S_01_04=1,S_02_05=1,S_02_03=1,S_03_04=1),\n",
    "    S_03_04=dict(S_03_05=1,S_02_04=1,S_04_04=1),\n",
    "    S_04_04=dict(S_04_03=1,S_03_04=1,S_05_04=1),\n",
    "    S_05_04=dict(S_04_04=1,S_05_05=1,S_06_04=1,S_05_03=1),\n",
    "    S_06_04=dict(S_06_03=1,S_07_04=1,S_05_04=1),\n",
    "    S_07_04=dict(S_06_04=1,S_07_05=1,S_08_04=1),\n",
    "    S_08_04=dict(S_07_04=1,S_08_03=1,S_08_05=1),\n",
    "    S_00_05=dict(S_00_06=1),\n",
    "    S_02_05=dict(S_02_06=1,S_02_04=1,S_03_05=1),\n",
    "    S_03_05=dict(S_02_05=1,S_03_04=1),\n",
    "    S_05_05=dict(S_05_04=1,S_05_06=1),\n",
    "    S_07_05=dict(S_08_05=1,S_07_04=1,S_07_06=1),\n",
    "    S_08_05=dict(S_09_05=1,S_07_05=1,S_08_04=1),\n",
    "    S_09_05=dict(S_09_06=1,S_08_05=1),\n",
    "    S_00_06=dict(S_00_07=1,S_00_05=1,S_01_06=1),\n",
    "    S_01_06=dict(S_00_06=1,S_01_07=1,S_02_06=1),\n",
    "    S_02_06=dict(S_02_07=1,S_02_05=1,S_01_06=1),\n",
    "    S_04_06=dict(S_05_06=1,S_04_07=1),\n",
    "    S_05_06=dict(S_04_06=1,S_06_06=1,S_05_05=1,S_05_07=1),\n",
    "    S_06_06=dict(S_07_06=1,S_06_07=1,S_05_06=1),\n",
    "    S_07_06=dict(S_06_06=1,S_07_05=1),\n",
    "    S_09_06=dict(S_09_05=1,S_09_07=1),\n",
    "    S_00_07=dict(S_00_08=1,S_01_07=1,S_00_06=1),\n",
    "    S_01_07=dict(S_00_07=1,S_02_07=1,S_01_08=1,S_01_06=1),\n",
    "    S_02_07=dict(S_01_07=1,S_03_07=1,S_02_06=1,S_02_08=1),\n",
    "    S_03_07=dict(S_04_07=1,S_02_07=1),\n",
    "    S_04_07=dict(S_03_07=1,S_05_07=1,S_04_08=1,S_04_06=1),\n",
    "    S_05_07=dict(S_04_07=1,S_06_07=1,S_05_08=1,S_05_06=1),\n",
    "    S_06_07=dict(S_06_06=1,S_06_08=1,S_05_07=1),\n",
    "    S_08_07=dict(S_09_07=1),\n",
    "    S_09_07=dict(S_08_07=1,S_09_06=1),\n",
    "    S_00_08=dict(S_00_09=1,S_01_08=1,S_00_07=1),\n",
    "    S_01_08=dict(S_00_08=1,S_02_08=1,S_01_09=1,S_01_07=1),\n",
    "    S_02_08=dict(S_02_09=1,S_02_07=1,S_01_08=1),\n",
    "    S_04_08=dict(S_04_09=1,S_05_08=1,S_04_07=1),\n",
    "    S_05_08=dict(S_04_08=1,S_06_08=1,S_05_09=1,S_05_07=1),\n",
    "    S_06_08=dict(S_07_08=1,S_06_07=1,S_05_08=1),\n",
    "    S_07_08=dict(S_07_09=1,S_06_08=1),\n",
    "    S_01_09=dict(S_01_08=1),\n",
    "    S_00_09=dict(S_01_09=1,S_00_08=1),\n",
    "    S_02_09=dict(S_01_09=1,S_02_08=1),\n",
    "    S_04_09=dict(S_04_08=1,S_05_09=1),\n",
    "    S_05_09=dict(S_05_08=1,S_04_09=1),\n",
    "    S_07_09=dict(S_07_08=1)))\n",
    "\n",
    "maze_map.locations = dict(\n",
    "    S_00_00=(0,0),\n",
    "    S_01_00=(1,0),\n",
    "    S_03_00=(3,0),\n",
    "    S_04_00=(4,0),\n",
    "    S_07_00=(7,0),\n",
    "    S_08_00=(8,0),\n",
    "    S_09_00=(9,0),\n",
    "    S_01_01=(1,1),\n",
    "    S_02_01=(2,1),\n",
    "    S_03_01=(3,1),\n",
    "    S_09_01=(9,1),\n",
    "    S_03_02=(3,2),\n",
    "    S_04_02=(4,2),\n",
    "    S_05_02=(5,2),\n",
    "    S_01_03=(1,3),\n",
    "    S_02_03=(2,3),\n",
    "    S_04_03=(4,3),\n",
    "    S_05_03=(5,3),\n",
    "    S_06_03=(6,3),\n",
    "    S_08_03=(8,3),\n",
    "    S_01_04=(1,4),\n",
    "    S_02_04=(2,4),\n",
    "    S_03_04=(3,4),\n",
    "    S_04_04=(4,4),\n",
    "    S_05_04=(5,4),\n",
    "    S_06_04=(6,4),\n",
    "    S_07_04=(7,4),\n",
    "    S_08_04=(8,4),\n",
    "    S_00_05=(0,5),\n",
    "    S_02_05=(2,5),\n",
    "    S_03_05=(3,5),\n",
    "    S_05_05=(5,5),\n",
    "    S_07_05=(7,5),\n",
    "    S_08_05=(8,5),\n",
    "    S_09_05=(9,5),\n",
    "    S_00_06=(0,6),\n",
    "    S_01_06=(1,6),\n",
    "    S_02_06=(2,6),\n",
    "    S_04_06=(4,6),\n",
    "    S_05_06=(5,6),\n",
    "    S_06_06=(6,6),\n",
    "    S_07_06=(7,6),\n",
    "    S_09_06=(9,6),\n",
    "    S_00_07=(0,7),\n",
    "    S_01_07=(1,7),\n",
    "    S_02_07=(2,7),\n",
    "    S_03_07=(3,7),\n",
    "    S_04_07=(4,7),\n",
    "    S_05_07=(5,7),\n",
    "    S_06_07=(6,7),\n",
    "    S_08_07=(8,7),\n",
    "    S_09_07=(9,7),\n",
    "    S_00_08=(0,8),\n",
    "    S_01_08=(1,8),\n",
    "    S_02_08=(2,8),\n",
    "    S_04_08=(4,8),\n",
    "    S_05_08=(5,8),\n",
    "    S_06_08=(6,8),\n",
    "    S_07_08=(7,8),\n",
    "    S_00_09=(0,9),\n",
    "    S_01_09=(1,9),\n",
    "    S_02_09=(2,9),\n",
    "    S_04_09=(4,9),\n",
    "    S_05_09=(5,9),\n",
    "    S_07_09=(7,9))\n",
    "\n",
    "maze_map_locations = maze_map.locations\n",
    "\n",
    "print(\"----------------------------\") \n",
    "print(\"Unique states (i.e.locations) and possible actions in those states:\\n\") \n",
    "print(maze_map.locations) "
   ]
  },
  {
   "cell_type": "markdown",
   "metadata": {},
   "source": [
    "----"
   ]
  },
  {
   "cell_type": "markdown",
   "metadata": {},
   "source": [
    "##### Q3.1.2 (b) Create the graph object"
   ]
  },
  {
   "cell_type": "markdown",
   "metadata": {},
   "source": [
    "- Execute the following cell to define a graph object based on the map and transition models defined in the previous question."
   ]
  },
  {
   "cell_type": "code",
   "execution_count": 1,
   "metadata": {},
   "outputs": [
    {
     "ename": "SyntaxError",
     "evalue": "Missing parentheses in call to 'print'. Did you mean print(node)? (<ipython-input-1-7a6673227a82>, line 23)",
     "output_type": "error",
     "traceback": [
      "\u001b[0;36m  File \u001b[0;32m\"<ipython-input-1-7a6673227a82>\"\u001b[0;36m, line \u001b[0;32m23\u001b[0m\n\u001b[0;31m    print node\u001b[0m\n\u001b[0m             ^\u001b[0m\n\u001b[0;31mSyntaxError\u001b[0m\u001b[0;31m:\u001b[0m Missing parentheses in call to 'print'. Did you mean print(node)?\n"
     ]
    }
   ],
   "source": [
    "# initialise a graph\n",
    "G = nx.Graph()\n",
    "\n",
    "# use this while labeling nodes in the map\n",
    "node_labels = dict()\n",
    "node_colors = dict()\n",
    "for n, p in maze_map_locations.items():\n",
    "    G.add_node(n)            # add nodes from locations\n",
    "    node_labels[n] = n       # add nodes to node_labels\n",
    "    node_colors[n] = \"white\" # node_colors to color nodes while exploring the map\n",
    "\n",
    "# we'll save the initial node colors to a dict for later use\n",
    "initial_node_colors = dict(node_colors)\n",
    "    \n",
    "# positions for node labels\n",
    "node_label_pos = {k:[v[0],v[1]-0.25] for k,v in maze_map_locations.items()} # spec the position of the labels relative to the nodes\n",
    "\n",
    "# use this while labeling edges\n",
    "edge_labels = dict()\n",
    "\n",
    "# add edges between nodes in the map - UndirectedGraph defined in search.py\n",
    "for node in maze_map.nodes():\n",
    "    print (node)\n",
    "    connections = maze_map.get(node)\n",
    "    for connection in connections.keys():\n",
    "        distance = connections[connection]        \n",
    "        G.add_edge(node, connection) # add edges to the graph        \n",
    "        edge_labels[(node, connection)] = distance # add distances to edge_labels\n",
    "        \n",
    "print(\"Done creating the graph object\")"
   ]
  },
  {
   "cell_type": "markdown",
   "metadata": {},
   "source": [
    "----"
   ]
  },
  {
   "cell_type": "markdown",
   "metadata": {},
   "source": [
    "##### Q3.1.2 (c) Visualise the graph"
   ]
  },
  {
   "cell_type": "markdown",
   "metadata": {},
   "source": [
    "- Execute the cells to visualize the graph and check that everything looks as expected:"
   ]
  },
  {
   "cell_type": "code",
   "execution_count": 47,
   "metadata": {},
   "outputs": [],
   "source": [
    "def show_map(node_colors):\n",
    "    # set the size of the plot\n",
    "    plt.figure(figsize=(16,13))\n",
    "    # draw the graph (both nodes and edges) with locations\n",
    "    nx.draw(G, pos = maze_map_locations, node_color = [node_colors[node] for node in G.nodes()])\n",
    "\n",
    "    # draw labels for nodes\n",
    "    node_label_handles = nx.draw_networkx_labels(G, pos = node_label_pos, labels = node_labels, font_size = 9)\n",
    "    # add a white bounding box behind the node labels\n",
    "    [label.set_bbox(dict(facecolor='white', edgecolor='none')) for label in node_label_handles.values()]\n",
    "\n",
    "    # add edge lables to the graph\n",
    "    nx.draw_networkx_edge_labels(G, pos = maze_map_locations, edge_labels=edge_labels, font_size = 8)\n",
    "    \n",
    "    # add a legend\n",
    "    white_circle = lines.Line2D([], [], color=\"white\", marker='o', markersize=15, markerfacecolor=\"white\")\n",
    "    orange_circle = lines.Line2D([], [], color=\"white\", marker='o', markersize=15, markerfacecolor=\"orange\")\n",
    "    red_circle = lines.Line2D([], [], color=\"white\", marker='o', markersize=15, markerfacecolor=\"red\")\n",
    "    gray_circle = lines.Line2D([], [], color=\"white\", marker='o', markersize=15, markerfacecolor=\"gray\")\n",
    "    green_circle = lines.Line2D([], [], color=\"white\", marker='o', markersize=15, markerfacecolor=\"green\")\n",
    "    plt.legend((white_circle, orange_circle, red_circle, gray_circle,green_circle),\n",
    "               ('Un-explored', 'Frontier', 'Currently exploring', 'Explored', 'Solution path'),\n",
    "               numpoints=1,prop={'size':16}, loc=(.8,1.0))\n",
    "    "
   ]
  },
  {
   "cell_type": "code",
   "execution_count": 48,
   "metadata": {},
   "outputs": [
    {
     "data": {
      "image/png": "[encoded data removed]",
      "text/plain": [
       "<Figure size 1152x936 with 1 Axes>"
      ]
     },
     "metadata": {},
     "output_type": "display_data"
    }
   ],
   "source": [
    "show_map(node_colors)"
   ]
  },
  {
   "cell_type": "markdown",
   "metadata": {},
   "source": [
    "----"
   ]
  },
  {
   "cell_type": "markdown",
   "metadata": {},
   "source": [
    "### Q3.2 Solve the graph problem"
   ]
  },
  {
   "cell_type": "markdown",
   "metadata": {},
   "source": [
    "Now that the graph/map has been completed in Q3.1.6 (c), we will try to use A-star to find a viable path."
   ]
  },
  {
   "cell_type": "markdown",
   "metadata": {},
   "source": [
    "#### Q3.2.1 Define the problem using the AIMA toolbox:"
   ]
  },
  {
   "cell_type": "markdown",
   "metadata": {},
   "source": [
    "Remember, we want to go from state S_00_00 to S_01_09:\n",
    "\n",
    "- Run the follwing code to instantiate the problem\n"
   ]
  },
  {
   "cell_type": "code",
   "execution_count": 49,
   "metadata": {},
   "outputs": [
    {
     "name": "stdout",
     "output_type": "stream",
     "text": [
      "Initial state: S_00_00\n",
      "Goal state: S_01_09\n"
     ]
    }
   ],
   "source": [
    "maze_problem = GraphProblem('S_00_00', 'S_01_09', maze_map)\n",
    "\n",
    "print(\"Initial state: \" + maze_problem.initial)\n",
    "print(\"Goal state: \"    + maze_problem.goal)"
   ]
  },
  {
   "cell_type": "markdown",
   "metadata": {},
   "source": [
    "----"
   ]
  },
  {
   "cell_type": "markdown",
   "metadata": {},
   "source": [
    "#### Q3.2.2 (a) Define the A-star search function"
   ]
  },
  {
   "cell_type": "markdown",
   "metadata": {},
   "source": [
    "The cells below defines an implementation of A-star (utilizing a few helper funciton from the AIMA toolbox). \n",
    "\n",
    "- Inspect the source code (or the orginal source in https://github.com/aimacode/aima-python/blob/master/search.py ) and make sure you identify the main steps in the algorithm (e.g. compare to the description in AIMA). Compared to the orginal source, the modified A* function included below allows us to easily plot the solutions etc.\n",
    "\n",
    "- Execute the following cells to define the A-star search function \n"
   ]
  },
  {
   "cell_type": "code",
   "execution_count": 1,
   "metadata": {},
   "outputs": [],
   "source": [
    "def my_best_first_graph_search(problem, f):\n",
    "    \"\"\"Search the nodes with the lowest f scores first.\n",
    "    You specify the function f(node) that you want to minimize; for example,\n",
    "    if f is a heuristic estimate to the goal, then we have greedy best\n",
    "    first search; if f is node.depth then we have breadth-first search.\n",
    "    There is a subtlety: the line \"f = memoize(f, 'f')\" means that the f\n",
    "    values will be cached on the nodes as they are computed. So after doing\n",
    "    a best first search you can examine the f values of the path returned.\"\"\"\n",
    "    \n",
    "    # we use these two variables at the time of visualisations\n",
    "    iterations = 0\n",
    "    all_node_colors = []\n",
    "    node_colors = dict(initial_node_colors)\n",
    "    \n",
    "    f = memoize(f, 'f')\n",
    "    node = Node(problem.initial)\n",
    "    \n",
    "    node_colors[node.state] = \"red\"\n",
    "    iterations += 1\n",
    "    all_node_colors.append(dict(node_colors))\n",
    "    \n",
    "    if problem.goal_test(node.state):\n",
    "        node_colors[node.state] = \"green\"\n",
    "        iterations += 1\n",
    "        all_node_colors.append(dict(node_colors))\n",
    "        return(iterations, all_node_colors, node)\n",
    "    \n",
    "    frontier = PriorityQueue('min', f)\n",
    "    frontier.append(node)\n",
    "    \n",
    "    node_colors[node.state] = \"orange\"\n",
    "    iterations += 1\n",
    "    all_node_colors.append(dict(node_colors))\n",
    "    \n",
    "    explored = set()\n",
    "    while frontier:\n",
    "        node = frontier.pop()\n",
    "        \n",
    "        node_colors[node.state] = \"red\"\n",
    "        iterations += 1\n",
    "        all_node_colors.append(dict(node_colors))\n",
    "        \n",
    "        if problem.goal_test(node.state):\n",
    "            node_colors[node.state] = \"green\"\n",
    "            iterations += 1\n",
    "            all_node_colors.append(dict(node_colors))\n",
    "            return(iterations, all_node_colors, node)\n",
    "        \n",
    "        explored.add(node.state)\n",
    "        for child in node.expand(problem):\n",
    "            if child.state not in explored and child not in frontier:\n",
    "                frontier.append(child)\n",
    "                node_colors[child.state] = \"orange\"\n",
    "                iterations += 1\n",
    "                all_node_colors.append(dict(node_colors))\n",
    "            elif child in frontier:\n",
    "                incumbent = frontier[child]\n",
    "                if f(child) < f(incumbent):\n",
    "                    del frontier[incumbent]\n",
    "                    frontier.append(child)\n",
    "                    node_colors[child.state] = \"orange\"\n",
    "                    iterations += 1\n",
    "                    all_node_colors.append(dict(node_colors))\n",
    "\n",
    "        node_colors[node.state] = \"gray\"\n",
    "        iterations += 1\n",
    "        all_node_colors.append(dict(node_colors))\n",
    "    return None"
   ]
  },
  {
   "cell_type": "code",
   "execution_count": 2,
   "metadata": {},
   "outputs": [],
   "source": [
    "def my_astar_search(problem, h=none):\n",
    "    \"\"\"A* search is best-first graph search with f(n) = g(n)+h(n).\n",
    "    You need to specify the h function when you call astar_search, or\n",
    "    else in your Problem subclass.\"\"\"\n",
    "    h = memoize(h or problem.h, 'h') # define the heuristic function\n",
    "    return my_best_first_graph_search(problem, lambda n: n.path_cost + h(n))"
   ]
  },
  {
   "cell_type": "markdown",
   "metadata": {},
   "source": [
    "----"
   ]
  },
  {
   "cell_type": "markdown",
   "metadata": {},
   "source": [
    "#### Q3.2.3 (b) Define visualisation functions"
   ]
  },
  {
   "cell_type": "markdown",
   "metadata": {},
   "source": [
    "- Run the following cell to define a few helper functions for visualising the soluton (you do not need to understand these in detail)"
   ]
  },
  {
   "cell_type": "code",
   "execution_count": 3,
   "metadata": {},
   "outputs": [],
   "source": [
    "def final_path_colors(problem, solution):\n",
    "    \"returns a node_colors dict of the final path provided the problem and solution\"\n",
    "    \n",
    "    # get initial node colors\n",
    "    final_colors = dict(initial_node_colors)\n",
    "    # color all the nodes in solution and starting node to green\n",
    "    final_colors[problem.initial] = \"green\"\n",
    "    for node in solution:\n",
    "        final_colors[node] = \"green\"  \n",
    "    return final_colors\n",
    "\n",
    "    \n",
    "def display_visual(user_input, algorithm=None, problem=None):\n",
    "    if user_input == False:\n",
    "        def slider_callback(iteration):\n",
    "            # don't show graph for the first time running the cell calling this function\n",
    "            try:\n",
    "                show_map(all_node_colors[iteration])\n",
    "            except:\n",
    "                pass\n",
    "        def visualize_callback(Visualize):\n",
    "            if Visualize is True:\n",
    "                button.value = False\n",
    "                \n",
    "                global all_node_colors\n",
    "                \n",
    "                iterations, all_node_colors, node = algorithm(problem)\n",
    "                solution = node.solution()\n",
    "                all_node_colors.append(final_path_colors(problem, solution))\n",
    "                \n",
    "                slider.max = len(all_node_colors) - 1\n",
    "                \n",
    "                for i in range(slider.max + 1):\n",
    "                    slider.value = i\n",
    "                    #time.sleep(3.)\n",
    "        \n",
    "        slider = widgets.IntSlider(min=0, max=1, step=1, value=0)\n",
    "        slider_visual = widgets.interactive(slider_callback, iteration = slider)\n",
    "        display(slider_visual)\n",
    "\n",
    "        button = widgets.ToggleButton(value = False)\n",
    "        button_visual = widgets.interactive(visualize_callback, Visualize = button)\n",
    "        display(button_visual)"
   ]
  },
  {
   "cell_type": "markdown",
   "metadata": {},
   "source": [
    "----"
   ]
  },
  {
   "cell_type": "markdown",
   "metadata": {},
   "source": [
    "#### Q3.2.4 Run the solver"
   ]
  },
  {
   "cell_type": "markdown",
   "metadata": {},
   "source": [
    "##### Q3.2.4 (a) Run the solver - simple trace"
   ]
  },
  {
   "cell_type": "markdown",
   "metadata": {},
   "source": [
    "The A* functions above is a generic implementation which can take different problems and heuristic functions.\n",
    "\n",
    "- Execute the follwing cell to run A-star on our particular maze problem and visualize the final solution. \n",
    "- Identify the heuristic function used for the Maze problem (you'll need to inspect the code below, `search.py` and specifically the `GraphProblem` class) \n"
   ]
  },
  {
   "cell_type": "code",
   "execution_count": 4,
   "metadata": {},
   "outputs": [
    {
     "ename": "NameError",
     "evalue": "name 'maze_problem' is not defined",
     "output_type": "error",
     "traceback": [
      "\u001b[0;31m---------------------------------------------------------------------------\u001b[0m",
      "\u001b[0;31mNameError\u001b[0m                                 Traceback (most recent call last)",
      "\u001b[0;32m<ipython-input-4-7c3391db851d>\u001b[0m in \u001b[0;36m<module>\u001b[0;34m()\u001b[0m\n\u001b[1;32m      1\u001b[0m \u001b[0mall_node_colors\u001b[0m\u001b[0;34m=\u001b[0m\u001b[0;34m[\u001b[0m\u001b[0;34m]\u001b[0m\u001b[0;34m\u001b[0m\u001b[0m\n\u001b[0;32m----> 2\u001b[0;31m \u001b[0miterations\u001b[0m\u001b[0;34m,\u001b[0m \u001b[0mall_node_colors\u001b[0m\u001b[0;34m,\u001b[0m \u001b[0mnode\u001b[0m \u001b[0;34m=\u001b[0m \u001b[0mmy_astar_search\u001b[0m\u001b[0;34m(\u001b[0m\u001b[0mproblem\u001b[0m\u001b[0;34m=\u001b[0m\u001b[0mmaze_problem\u001b[0m\u001b[0;34m,\u001b[0m \u001b[0mh\u001b[0m\u001b[0;34m=\u001b[0m\u001b[0;32mNone\u001b[0m\u001b[0;34m)\u001b[0m\u001b[0;34m\u001b[0m\u001b[0m\n\u001b[0m\u001b[1;32m      3\u001b[0m \u001b[0;34m\u001b[0m\u001b[0m\n\u001b[1;32m      4\u001b[0m \u001b[0;31m#-- Trace the solution --#\u001b[0m\u001b[0;34m\u001b[0m\u001b[0;34m\u001b[0m\u001b[0m\n\u001b[1;32m      5\u001b[0m \u001b[0msolution_path\u001b[0m \u001b[0;34m=\u001b[0m \u001b[0;34m[\u001b[0m\u001b[0mnode\u001b[0m\u001b[0;34m]\u001b[0m\u001b[0;34m\u001b[0m\u001b[0m\n",
      "\u001b[0;31mNameError\u001b[0m: name 'maze_problem' is not defined"
     ]
    }
   ],
   "source": [
    "all_node_colors=[]\n",
    "iterations, all_node_colors, node = my_astar_search(problem=maze_problem, h=None)\n",
    "\n",
    "#-- Trace the solution --#\n",
    "solution_path = [node]\n",
    "cnode = node.parent\n",
    "solution_path.append(cnode)\n",
    "while cnode.state != \"S_00_00\":    \n",
    "    cnode = cnode.parent  \n",
    "    solution_path.append(cnode)\n",
    "\n",
    "print(\"----------------------------------------\")\n",
    "print(\"Identified goal state:\"+str(solution_path[0]))\n",
    "print(\"----------------------------------------\")\n",
    "print(\"Solution trace:\"+str(solution_path))\n",
    "print(\"----------------------------------------\")\n",
    "print(\"Final solution path:\")\n",
    "show_map(final_path_colors(maze_problem, node.solution()))\n"
   ]
  },
  {
   "cell_type": "markdown",
   "metadata": {},
   "source": [
    "----"
   ]
  },
  {
   "cell_type": "markdown",
   "metadata": {},
   "source": [
    "##### Q3.2.4 (b) Run the solver - full trace [optional]"
   ]
  },
  {
   "cell_type": "markdown",
   "metadata": {},
   "source": [
    "- You can obtain a full trace of the A-star solution by executing the follwing code with `do_full_visualization=True`. However, be aware that the visualisation is not rendered real-time and it will (typically) be presented as individual figures after the solution has been computed."
   ]
  },
  {
   "cell_type": "code",
   "execution_count": 57,
   "metadata": {},
   "outputs": [
    {
     "name": "stdout",
     "output_type": "stream",
     "text": [
      "::: Full Visualization ::::\n"
     ]
    },
    {
     "data": {
      "application/vnd.jupyter.widget-view+json": {
       "model_id": "b848f2d5927a4575a5d059409b5adf15",
       "version_major": 2,
       "version_minor": 0
      },
      "text/plain": [
       "interactive(children=(IntSlider(value=0, description='iteration', max=1), Output()), _dom_classes=('widget-int…"
      ]
     },
     "metadata": {},
     "output_type": "display_data"
    },
    {
     "data": {
      "application/vnd.jupyter.widget-view+json": {
       "model_id": "7fef16826e404911a15ba47e5faff5d1",
       "version_major": 2,
       "version_minor": 0
      },
      "text/plain": [
       "interactive(children=(ToggleButton(value=False, description='Visualize'), Output()), _dom_classes=('widget-int…"
      ]
     },
     "metadata": {},
     "output_type": "display_data"
    }
   ],
   "source": [
    "do_full_visualization = True\n",
    "if do_full_visualization:     \n",
    "    # WARNING the FULL visualisation might not work very well on some computers due to \n",
    "    # the large graph and the many iterations required.The visualisaiton will \n",
    "    # typically compute the solution and do the plotting at the end - and it often takes a long time ...\n",
    "    #\n",
    "    print(\"::: Full Visualization ::::\")\n",
    "    all_node_colors = []\n",
    "    display_visual(user_input = False, algorithm = my_astar_search, problem = maze_problem)"
   ]
  },
  {
   "cell_type": "markdown",
   "metadata": {},
   "source": [
    "----"
   ]
  },
  {
   "cell_type": "markdown",
   "metadata": {},
   "source": [
    "### Q3.3.2 Inspect the solution"
   ]
  },
  {
   "cell_type": "markdown",
   "metadata": {},
   "source": [
    "\n",
    "- Is the solution returned by `my_astar_search` optimal (hint: you may want to lookup the definition of an optimal solution in AIMA)? Is it supposed to be optimal given you knowledge of A-star and the applied heuristic?\n",
    "- How many optimal solutions are there for this problem ?"
   ]
  },
  {
   "cell_type": "markdown",
   "metadata": {},
   "source": [
    "----"
   ]
  },
  {
   "cell_type": "markdown",
   "metadata": {},
   "source": [
    "### Q3.3.3 Heuristic function"
   ]
  },
  {
   "cell_type": "markdown",
   "metadata": {},
   "source": [
    "#### Q3.3.3 (a) Heuristic function I"
   ]
  },
  {
   "cell_type": "markdown",
   "metadata": {},
   "source": [
    "- Modify the heuristic function currently used by A-star and set it to zero for all nodes [note: requires you to insert and/or modify code for example by writing a new h function in this notebook and parse it to my_astar_search in Q3.2.4 ]\n",
    "- Rerun the A-star solver and inspect the solution - determine if and how the heuristic function has changed the solution (i.e. is it still a valid solution, is it optimal, etc)?\n",
    "- A-star with $h(n)=0\\,\\forall n$ corresponds to a basic search method - which one (breadth first search, depth first search, uniform cost search, hill-climbing, etc) ?"
   ]
  },
  {
   "cell_type": "markdown",
   "metadata": {},
   "source": [
    "---"
   ]
  },
  {
   "cell_type": "markdown",
   "metadata": {},
   "source": [
    "#### Q3.3.3 (b) Heuristic function II [optional]"
   ]
  },
  {
   "cell_type": "markdown",
   "metadata": {},
   "source": [
    "- Change the heuristic function currently used by A-star into a inconsistent heuristic (i.e. you may want to look up the definition of a consistent heuristic in AIMA) [note: require you to insert/modify code]\n",
    "- Rerun the A-star solver. Determine if and how the heuristic function has changed the solution (i.e. is it still a valid solution, is it optimal, etc)?"
   ]
  },
  {
   "cell_type": "markdown",
   "metadata": {},
   "source": [
    "----"
   ]
  },
  {
   "cell_type": "markdown",
   "metadata": {},
   "source": [
    "### Q3.3.4 Limitations"
   ]
  },
  {
   "cell_type": "markdown",
   "metadata": {},
   "source": [
    "- List the required inputs needed by the A-star algorithm for it to work, i.e. what information is needed? [note: if in doubt, inspect the code and function calls ]\n",
    "- Discuss the limitations of the basic A-star in solving general navigation problems, including cases where we do not have a map of the world, stochastic environments, or noise on the percepts leaving to uncertainty about the state?"
   ]
  },
  {
   "cell_type": "markdown",
   "metadata": {},
   "source": [
    "----"
   ]
  }
 ],
 "metadata": {
  "anaconda-cloud": {},
  "kernelspec": {
   "display_name": "Python 3",
   "language": "python",
   "name": "python3"
  },
  "language_info": {
   "codemirror_mode": {
    "name": "ipython",
    "version": 3
   },
   "file_extension": ".py",
   "mimetype": "text/x-python",
   "name": "python",
   "nbconvert_exporter": "python",
   "pygments_lexer": "ipython3",
   "version": "3.6.5"
  },
  "widgets": {
   "state": {
    "1165590537ad42319be0fd672ba93fcf": {
     "views": [
      {
       "cell_index": 70
      }
     ]
    },
    "218bb03559334f53865f3c549687947f": {
     "views": [
      {
       "cell_index": 70
      }
     ]
    },
    "2da45e0a19e245e9a3766718bc868d68": {
     "views": [
      {
       "cell_index": 70
      }
     ]
    },
    "2e1f54660c9d49d0bd59d8783505c928": {
     "views": [
      {
       "cell_index": 73
      }
     ]
    },
    "388748b8801742c38b9efbd0f572e255": {
     "views": [
      {
       "cell_index": 70
      }
     ]
    },
    "3aa93a0d80464011866fbce0ab9c6847": {
     "views": [
      {
       "cell_index": 70
      }
     ]
    },
    "3b7f6cf85b15420182f027cefdbb4e41": {
     "views": [
      {
       "cell_index": 70
      }
     ]
    },
    "3ccc236121f746219ee914dd4eaf7745": {
     "views": [
      {
       "cell_index": 69
      }
     ]
    },
    "56e20e7ebc6b49c7a27f57bddb9d0d03": {
     "views": [
      {
       "cell_index": 70
      }
     ]
    },
    "572cff82823345058557962a93c21b14": {
     "views": [
      {
       "cell_index": 69
      }
     ]
    },
    "5e87b7cb75714dd9a3528f54bf26a330": {
     "views": [
      {
       "cell_index": 70
      }
     ]
    },
    "63f3739d2b8b499ab2e93ff9b98d2cd7": {
     "views": [
      {
       "cell_index": 74
      }
     ]
    },
    "6d4f09551948409ab609dd0ba0f80042": {
     "views": [
      {
       "cell_index": 70
      }
     ]
    },
    "7fa3698b72794594b321f1173c5334a1": {
     "views": [
      {
       "cell_index": 70
      }
     ]
    },
    "9df03dfad39b4a5ca5ded7be8afd4e3c": {
     "views": [
      {
       "cell_index": 73
      }
     ]
    },
    "a0f16426957b477bb254ed9909be63d1": {
     "views": [
      {
       "cell_index": 70
      }
     ]
    },
    "b406cc83e6fc4a4b932c7a120fb1149c": {
     "views": [
      {
       "cell_index": 75
      }
     ]
    },
    "c700f1455a714b1c9407172f8a5cbd88": {
     "views": [
      {
       "cell_index": 65
      }
     ]
    },
    "cca4938ba56444c386666cf90477abaa": {
     "views": [
      {
       "cell_index": 70
      }
     ]
    },
    "d2ae94a64b914cb38f8e714bd9701d97": {
     "views": [
      {
       "cell_index": 70
      }
     ]
    },
    "e2aeb79eea344a58a969b2963578f355": {
     "views": [
      {
       "cell_index": 75
      }
     ]
    },
    "e30b4000d76449d8bf0614226915668d": {
     "views": [
      {
       "cell_index": 70
      }
     ]
    },
    "e405328e5ad34d04b42a6ddfc22d6730": {
     "views": [
      {
       "cell_index": 70
      }
     ]
    },
    "fa3e57a2fcfb4302b47b0992eddc7063": {
     "views": [
      {
       "cell_index": 69
      }
     ]
    }
   },
   "version": "1.2.0"
  }
 },
 "nbformat": 4,
 "nbformat_minor": 1
}
